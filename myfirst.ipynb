{
 "cells": [
  {
   "cell_type": "markdown",
   "id": "036dee7d-24e4-43f4-9266-5e4ebda500c2",
   "metadata": {
    "tags": []
   },
   "source": [
    "1+1 ghf"
   ]
  },
  {
   "cell_type": "code",
   "execution_count": 3,
   "id": "58c14e0d-2eb0-442e-a421-70801c0fa949",
   "metadata": {},
   "outputs": [
    {
     "data": {
      "text/plain": [
       "-1"
      ]
     },
     "execution_count": 3,
     "metadata": {},
     "output_type": "execute_result"
    }
   ],
   "source": [
    "4-5"
   ]
  },
  {
   "cell_type": "code",
   "execution_count": 4,
   "id": "688f85d0-0a64-4f05-8fbb-8b9e3de01279",
   "metadata": {
    "collapsed": true,
    "jupyter": {
     "outputs_hidden": true
    },
    "tags": []
   },
   "outputs": [
    {
     "data": {
      "text/plain": [
       "616"
      ]
     },
     "execution_count": 4,
     "metadata": {},
     "output_type": "execute_result"
    }
   ],
   "source": [
    "378+238\n"
   ]
  },
  {
   "cell_type": "markdown",
   "id": "492f41cb-f35d-4e7f-be79-380be97d700f",
   "metadata": {},
   "source": [
    "hello  this first phyton "
   ]
  },
  {
   "cell_type": "code",
   "execution_count": null,
   "id": "678169ba-e6b0-413e-b42a-e29754cfc47a",
   "metadata": {},
   "outputs": [],
   "source": []
  },
  {
   "cell_type": "code",
   "execution_count": null,
   "id": "14fc2a84-25e0-4bfe-840f-0a18f8a73bd5",
   "metadata": {},
   "outputs": [],
   "source": []
  },
  {
   "cell_type": "code",
   "execution_count": null,
   "id": "24949cad-b9c0-46d4-b759-10cb017094f8",
   "metadata": {},
   "outputs": [],
   "source": []
  }
 ],
 "metadata": {
  "kernelspec": {
   "display_name": "Python",
   "language": "python",
   "name": "conda-env-python-py"
  },
  "language_info": {
   "codemirror_mode": {
    "name": "ipython",
    "version": 3
   },
   "file_extension": ".py",
   "mimetype": "text/x-python",
   "name": "python",
   "nbconvert_exporter": "python",
   "pygments_lexer": "ipython3",
   "version": "3.6.13"
  }
 },
 "nbformat": 4,
 "nbformat_minor": 5
}
